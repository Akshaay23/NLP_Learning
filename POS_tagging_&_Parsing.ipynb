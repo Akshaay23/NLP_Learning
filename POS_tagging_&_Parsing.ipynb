{
  "nbformat": 4,
  "nbformat_minor": 0,
  "metadata": {
    "colab": {
      "provenance": [],
      "authorship_tag": "ABX9TyNSy/OVB8Zeeq5rf7751tak",
      "include_colab_link": true
    },
    "kernelspec": {
      "name": "python3",
      "display_name": "Python 3"
    },
    "language_info": {
      "name": "python"
    }
  },
  "cells": [
    {
      "cell_type": "markdown",
      "metadata": {
        "id": "view-in-github",
        "colab_type": "text"
      },
      "source": [
        "<a href=\"https://colab.research.google.com/github/Akshaay23/NLP_Learning/blob/main/POS_tagging_%26_Parsing.ipynb\" target=\"_parent\"><img src=\"https://colab.research.google.com/assets/colab-badge.svg\" alt=\"Open In Colab\"/></a>"
      ]
    },
    {
      "cell_type": "markdown",
      "source": [
        "Part-of-Speech (POS) tagging\n",
        "- is the process of assigning grammatical categories (such as nouns, verbs, adjectives, etc.) to words in a sentence. It helps NLP models understand the role of each word in a sentence, which is crucial for tasks like syntactic analysis, named entity recognition (NER), and machine translation.\n",
        "\n",
        "**Why is POS Tagging Important?**\n",
        "\n",
        "- Better Text Understanding – Helps determine meaning in context.\n",
        "- Improves NLP Models – Used in Named Entity Recognition (NER), Sentiment Analysis, and more.\n",
        "- Keyword Extraction – Extracts important words (e.g., nouns, verbs) for summarization.\n",
        "- Grammar Checking – Identifies grammatical errors in text."
      ],
      "metadata": {
        "id": "0NKvaASVuwFJ"
      }
    },
    {
      "cell_type": "code",
      "source": [
        "import spacy\n",
        "\n",
        "# Load spaCy English model\n",
        "nlp = spacy.load(\"en_core_web_sm\")\n",
        "\n",
        "text = \"John, a software engineer at Google, is running late for his meeting on Monday at 10:30 AM.\"\n",
        "\n",
        "# Process text with spaCy\n",
        "doc = nlp(text)\n",
        "\n",
        "# Print POS tags\n",
        "for token in doc:\n",
        "    print(f\"{token.text} --> {token.pos_}\")\n"
      ],
      "metadata": {
        "colab": {
          "base_uri": "https://localhost:8080/"
        },
        "id": "SrgNw7Neuydl",
        "outputId": "93ac5f4a-d45e-4a35-ca68-ef785c0587eb"
      },
      "execution_count": 2,
      "outputs": [
        {
          "output_type": "stream",
          "name": "stdout",
          "text": [
            "John --> PROPN\n",
            ", --> PUNCT\n",
            "a --> DET\n",
            "software --> NOUN\n",
            "engineer --> NOUN\n",
            "at --> ADP\n",
            "Google --> PROPN\n",
            ", --> PUNCT\n",
            "is --> AUX\n",
            "running --> VERB\n",
            "late --> ADV\n",
            "for --> ADP\n",
            "his --> PRON\n",
            "meeting --> NOUN\n",
            "on --> ADP\n",
            "Monday --> PROPN\n",
            "at --> ADP\n",
            "10:30 --> NUM\n",
            "AM --> NOUN\n",
            ". --> PUNCT\n"
          ]
        }
      ]
    },
    {
      "cell_type": "code",
      "source": [],
      "metadata": {
        "id": "mcwN7RTnvrhh"
      },
      "execution_count": null,
      "outputs": []
    },
    {
      "cell_type": "markdown",
      "source": [
        "- What is Parsing in NLP?\n",
        "\n",
        "Parsing in NLP refers to the process of analyzing a sentence’s grammatical structure to understand its meaning. It helps break down sentences into components like phrases, clauses, and relationships between words.\n",
        "\n",
        "There are two main types of parsing:\n",
        "\n",
        "- Syntactic Parsing (Dependency & Constituency Parsing) – Analyzing the grammatical structure of a sentence.\n",
        "- Semantic Parsing – Understanding the meaning of a sentence."
      ],
      "metadata": {
        "id": "hjD2-Htlv4BC"
      }
    },
    {
      "cell_type": "code",
      "source": [
        "\"\"\" Dependency Parsing (Used in spaCy)\n",
        "\n",
        "- Focuses on word-to-word relationships (dependencies).\n",
        "- Identifies the root verb and how words relate to each other.\n",
        "- Commonly used in chatbots, question answering, and grammar correction.\n",
        "Used for: Chatbots, grammar checking, sentence structure analysis.\"\"\"\n",
        "\n",
        "import spacy\n",
        "\n",
        "# Load spaCy model\n",
        "nlp = spacy.load(\"en_core_web_sm\")\n",
        "\n",
        "text = \"John is running to the office.\"\n",
        "\n",
        "# Process the text\n",
        "doc = nlp(text)\n",
        "\n",
        "# Print word dependencies\n",
        "for token in doc:\n",
        "    print(f\"{token.text} → {token.dep_} → {token.head.text}\")\n"
      ],
      "metadata": {
        "colab": {
          "base_uri": "https://localhost:8080/"
        },
        "id": "_adV3WIfwd_9",
        "outputId": "4acc3b25-4cff-4232-98f6-ea181a0234f8"
      },
      "execution_count": 6,
      "outputs": [
        {
          "output_type": "stream",
          "name": "stdout",
          "text": [
            "John → nsubj → running\n",
            "is → aux → running\n",
            "running → ROOT → running\n",
            "to → prep → running\n",
            "the → det → office\n",
            "office → pobj → to\n",
            ". → punct → running\n"
          ]
        }
      ]
    },
    {
      "cell_type": "code",
      "source": [
        "\"\"\"Constituency Parsing (Used in NLTK)\n",
        "- Breaks a sentence into phrases (NP, VP, PP, etc.).\n",
        "- Uses tree structures to represent sentence hierarchy.\n",
        "- Commonly used in linguistics and grammar analysis.\n",
        "Used for: Grammar correction, machine translation, syntax analysis.\"\"\"\n",
        "\n",
        "\n",
        "import nltk\n",
        "from nltk import CFG\n",
        "\n",
        "# Define a simple grammar\n",
        "grammar = CFG.fromstring(\"\"\"\n",
        "  S -> NP VP\n",
        "  NP -> DT NN | NNP\n",
        "  VP -> VB NP | VB\n",
        "  DT -> 'the'\n",
        "  NN -> 'office'\n",
        "  VB -> 'runs'\n",
        "  NNP -> 'John'\n",
        "\"\"\")\n",
        "\n",
        "# Create a parser\n",
        "parser = nltk.ChartParser(grammar)\n",
        "\n",
        "# Parse the sentence\n",
        "sentence = ['John', 'runs']\n",
        "for tree in parser.parse(sentence):\n",
        "    tree.pretty_print()\n"
      ],
      "metadata": {
        "colab": {
          "base_uri": "https://localhost:8080/"
        },
        "id": "fmcIwTt1w3H1",
        "outputId": "60245b32-d0b9-499c-877f-4bc887b830b4"
      },
      "execution_count": 5,
      "outputs": [
        {
          "output_type": "stream",
          "name": "stdout",
          "text": [
            "      S      \n",
            "  ____|___    \n",
            " NP       VP \n",
            " |        |   \n",
            "NNP       VB \n",
            " |        |   \n",
            "John     runs\n",
            "\n"
          ]
        }
      ]
    },
    {
      "cell_type": "markdown",
      "source": [
        "\n",
        "\n",
        "---\n",
        "\n",
        "## **Dependency Parsing vs. Constituency Parsing**\n",
        "| Feature | Dependency Parsing (spaCy) | Constituency Parsing (NLTK) |\n",
        "|---------|----------------|----------------|\n",
        "| **Focus** | Word-to-word relationships | Sentence structure |\n",
        "| **Output** | Dependency tree | Hierarchical phrase structure |\n",
        "| **Speed** | Faster | Slower |\n",
        "| **Use Case** | Chatbots, NER, Grammar checking | Syntax analysis, Linguistics |\n",
        "\n",
        "---\n",
        "\n"
      ],
      "metadata": {
        "id": "UlBxGDuGxqEx"
      }
    },
    {
      "cell_type": "code",
      "source": [],
      "metadata": {
        "id": "Srl6i1zYxM0T"
      },
      "execution_count": null,
      "outputs": []
    }
  ]
}