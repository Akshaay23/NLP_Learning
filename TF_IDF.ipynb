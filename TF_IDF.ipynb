{
  "nbformat": 4,
  "nbformat_minor": 0,
  "metadata": {
    "colab": {
      "provenance": [],
      "authorship_tag": "ABX9TyOf+gpmbhaHwlrpuNxa31KA",
      "include_colab_link": true
    },
    "kernelspec": {
      "name": "python3",
      "display_name": "Python 3"
    },
    "language_info": {
      "name": "python"
    }
  },
  "cells": [
    {
      "cell_type": "markdown",
      "metadata": {
        "id": "view-in-github",
        "colab_type": "text"
      },
      "source": [
        "<a href=\"https://colab.research.google.com/github/Akshaay23/NLP_Learning/blob/main/TF_IDF.ipynb\" target=\"_parent\"><img src=\"https://colab.research.google.com/assets/colab-badge.svg\" alt=\"Open In Colab\"/></a>"
      ]
    },
    {
      "cell_type": "code",
      "execution_count": null,
      "metadata": {
        "id": "0frf8dmW2wwf"
      },
      "outputs": [],
      "source": []
    },
    {
      "cell_type": "markdown",
      "source": [
        "**TF-IDF (Term Frequency-Inverse Document Frequency)**\n",
        "- is an advanced text representation technique used to measure the importance of words in a document relative to a collection of documents (corpus).\n",
        "- Unlike Bag of Words (BoW), which only counts word occurrences, TF-IDF gives more weight to important words and reduces the weight of common words."
      ],
      "metadata": {
        "id": "cX72U0zS21fd"
      }
    },
    {
      "cell_type": "code",
      "source": [
        "from sklearn.feature_extraction.text import TfidfVectorizer\n",
        "\n",
        "# Sample text corpus\n",
        "texts = [\n",
        "    \"John loves to play football.\",\n",
        "    \"Football is a great sport!\",\n",
        "    \"John and Alex enjoy playing football.\"\n",
        "]\n",
        "\n",
        "# Create TF-IDF model\n",
        "vectorizer = TfidfVectorizer()\n",
        "tfidf_matrix = vectorizer.fit_transform(texts)\n",
        "\n",
        "# Convert to array and print vocabulary\n",
        "print(\"Vocabulary:\", vectorizer.get_feature_names_out())\n",
        "print(\"\\nTF-IDF Matrix:\\n\", tfidf_matrix.toarray())\n"
      ],
      "metadata": {
        "colab": {
          "base_uri": "https://localhost:8080/"
        },
        "id": "tQl3hosM3Fwv",
        "outputId": "5ea0d25a-c751-44b9-e9bf-429d3fb82dc9"
      },
      "execution_count": 1,
      "outputs": [
        {
          "output_type": "stream",
          "name": "stdout",
          "text": [
            "Vocabulary: ['alex' 'and' 'enjoy' 'football' 'great' 'is' 'john' 'loves' 'play'\n",
            " 'playing' 'sport' 'to']\n",
            "\n",
            "TF-IDF Matrix:\n",
            " [[0.         0.         0.         0.29803159 0.         0.\n",
            "  0.38376993 0.50461134 0.50461134 0.         0.         0.50461134]\n",
            " [0.         0.         0.         0.32274454 0.54645401 0.54645401\n",
            "  0.         0.         0.         0.         0.54645401 0.        ]\n",
            " [0.45050407 0.45050407 0.45050407 0.26607496 0.         0.\n",
            "  0.34261996 0.         0.         0.45050407 0.         0.        ]]\n"
          ]
        }
      ]
    },
    {
      "cell_type": "markdown",
      "source": [
        " **Advantages of TF-IDF**\n",
        "- Reduces Weight of Common Words – Unlike BoW, TF-IDF reduces importance of words like \"is\", \"to\", \"the\".\n",
        "- Captures Important Words – Words that appear frequently but in fewer documents get a higher score.\n",
        "- Improves Text Classification – Commonly used in spam detection, topic modeling, and search engines.\n",
        "\n",
        "**Limitations of TF-IDF**\n",
        "- Ignores Context & Word Order – Doesn’t capture relationships between words.\n",
        "- Sparse Representation – Large vocabulary can result in a sparse matrix.\n",
        "- Not Good for Deep Learning – TF-IDF is mostly used in traditional ML models (SVM, Naive Bayes) rather than deep learning.\n",
        "\n",
        "**When to Use TF-IDF?**\n",
        "- Use TF-IDF when building search engines, keyword extraction, or traditional ML models.\n",
        "- Use Word Embeddings (Word2Vec, BERT) when you need semantic meaning & deep learning applications."
      ],
      "metadata": {
        "id": "RFh4vx7D3UcA"
      }
    },
    {
      "cell_type": "code",
      "source": [],
      "metadata": {
        "id": "MvjOIuNh3diy"
      },
      "execution_count": null,
      "outputs": []
    }
  ]
}