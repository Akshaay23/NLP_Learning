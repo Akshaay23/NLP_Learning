{
  "nbformat": 4,
  "nbformat_minor": 0,
  "metadata": {
    "colab": {
      "provenance": [],
      "authorship_tag": "ABX9TyO9qaDJ4ejbg5S4bFg0grtK",
      "include_colab_link": true
    },
    "kernelspec": {
      "name": "python3",
      "display_name": "Python 3"
    },
    "language_info": {
      "name": "python"
    }
  },
  "cells": [
    {
      "cell_type": "markdown",
      "metadata": {
        "id": "view-in-github",
        "colab_type": "text"
      },
      "source": [
        "<a href=\"https://colab.research.google.com/github/Akshaay23/NLP_Learning/blob/main/Bag_of_words.ipynb\" target=\"_parent\"><img src=\"https://colab.research.google.com/assets/colab-badge.svg\" alt=\"Open In Colab\"/></a>"
      ]
    },
    {
      "cell_type": "markdown",
      "source": [
        "Bag of Words (BoW)\n",
        "- is a simple and effective text representation technique used in Natural Language Processing (NLP). It converts text into a numerical format for machine learning models by counting word occurrences without considering grammar or word order.\n",
        "\n",
        "How BoW Works\n",
        "\n",
        "- Tokenization – Splitting the text into words.\n",
        "- Vocabulary Creation – Creating a set of all unique words in the text.\n",
        "- Vectorization – Representing each sentence as a numerical vector based on word occurrences.\n",
        "\n"
      ],
      "metadata": {
        "id": "lurMD8Zt0b24"
      }
    },
    {
      "cell_type": "code",
      "source": [
        "from sklearn.feature_extraction.text import CountVectorizer\n",
        "\n",
        "# Sample text\n",
        "texts = [\"John loves to play football.\", \"Football is a great sport!\"]\n",
        "\n",
        "# Create BoW model\n",
        "vectorizer = CountVectorizer()\n",
        "bow_matrix = vectorizer.fit_transform(texts)\n",
        "\n",
        "# Convert matrix to array and print vocabulary\n",
        "print(\"Vocabulary:\", vectorizer.get_feature_names_out())\n",
        "print(\"BoW Representation:\\n\", bow_matrix.toarray())\n"
      ],
      "metadata": {
        "colab": {
          "base_uri": "https://localhost:8080/"
        },
        "id": "Njmfb1z00fXZ",
        "outputId": "b877aa76-ba55-493d-86ee-205b686dfda9"
      },
      "execution_count": 1,
      "outputs": [
        {
          "output_type": "stream",
          "name": "stdout",
          "text": [
            "Vocabulary: ['football' 'great' 'is' 'john' 'loves' 'play' 'sport' 'to']\n",
            "BoW Representation:\n",
            " [[1 0 0 1 1 1 0 1]\n",
            " [1 1 1 0 0 0 1 0]]\n"
          ]
        }
      ]
    },
    {
      "cell_type": "markdown",
      "source": [
        "**Advantages of BoW**\n",
        "- Simple & Effective – Easy to implement for text classification.\n",
        "- Works Well for Small Datasets – Performs well when text data is small.\n",
        "\n",
        "**Limitations of BoW**\n",
        "- Ignores Word Order – \"John loves football\" and \"Football loves John\" have the same representation.\n",
        "- Ignores Context – Cannot capture the meaning behind words.\n",
        "-  Sparse Representation – Large vocabularies create huge, sparse matrices.\n",
        "\n",
        "**When to Use BoW?**\n",
        "\n",
        "✔ Use BoW for simple text classification (e.g., spam detection, sentiment analysis).\n",
        "\n",
        "✔ Use Word Embeddings (Word2Vec, BERT) when context matters (e.g., chatbot, translation)."
      ],
      "metadata": {
        "id": "-ZqikYrP1BWn"
      }
    },
    {
      "cell_type": "code",
      "source": [],
      "metadata": {
        "id": "zbnbwQ0b02Vx"
      },
      "execution_count": null,
      "outputs": []
    }
  ]
}